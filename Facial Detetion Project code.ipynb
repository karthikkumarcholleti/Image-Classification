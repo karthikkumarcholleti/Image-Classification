{
 "cells": [
  {
   "cell_type": "code",
   "execution_count": 1,
   "id": "0e30c5ce",
   "metadata": {},
   "outputs": [],
   "source": [
    "import cv2\n",
    "import numpy as np"
   ]
  },
  {
   "cell_type": "code",
   "execution_count": 2,
   "id": "afc70271",
   "metadata": {},
   "outputs": [],
   "source": [
    "image = cv2.imread('Rithik photo.jpg',1)"
   ]
  },
  {
   "cell_type": "code",
   "execution_count": 3,
   "id": "fb1d7c08",
   "metadata": {},
   "outputs": [
    {
     "name": "stdout",
     "output_type": "stream",
     "text": [
      "[[[168 165 161]\n",
      "  [229 229 229]\n",
      "  [248 251 255]\n",
      "  ...\n",
      "  [187 160 110]\n",
      "  [208 186 150]\n",
      "  [241 221 196]]\n",
      "\n",
      " [[157 144 136]\n",
      "  [151 140 136]\n",
      "  [202 196 197]\n",
      "  ...\n",
      "  [193 166 116]\n",
      "  [189 164 124]\n",
      "  [187 164 132]]\n",
      "\n",
      " [[175 149 137]\n",
      "  [167 147 136]\n",
      "  [151 135 129]\n",
      "  ...\n",
      "  [199 170 119]\n",
      "  [195 166 121]\n",
      "  [186 157 118]]\n",
      "\n",
      " ...\n",
      "\n",
      " [[142 151 201]\n",
      "  [ 90 100 140]\n",
      "  [ 85  98 124]\n",
      "  ...\n",
      "  [136 130 149]\n",
      "  [117 111 134]\n",
      "  [109 103 128]]\n",
      "\n",
      " [[169 174 223]\n",
      "  [ 95 104 141]\n",
      "  [ 80  89 109]\n",
      "  ...\n",
      "  [184 180 192]\n",
      "  [161 157 176]\n",
      "  [146 140 165]]\n",
      "\n",
      " [[161 165 214]\n",
      "  [ 93 100 133]\n",
      "  [ 69  77  94]\n",
      "  ...\n",
      "  [202 202 208]\n",
      "  [197 192 207]\n",
      "  [165 158 179]]]\n"
     ]
    }
   ],
   "source": [
    "print(image)"
   ]
  },
  {
   "cell_type": "code",
   "execution_count": 4,
   "id": "9d4b58a9",
   "metadata": {},
   "outputs": [
    {
     "data": {
      "text/plain": [
       "(288, 288, 3)"
      ]
     },
     "execution_count": 4,
     "metadata": {},
     "output_type": "execute_result"
    }
   ],
   "source": [
    "image.shape"
   ]
  },
  {
   "cell_type": "code",
   "execution_count": 98,
   "id": "3dd1d514",
   "metadata": {},
   "outputs": [],
   "source": [
    "cv2.imshow('Rithik photo', image)\n",
    "cv2.waitKey(2000)\n",
    "cv2.destroyAllWindows()"
   ]
  },
  {
   "cell_type": "code",
   "execution_count": 125,
   "id": "56ea33e4",
   "metadata": {},
   "outputs": [],
   "source": [
    "image = cv2.imread('Rithik photo.jpg')\n",
    "image = cv2.resize(image,(1000,1000))\n",
    "cv2.imshow('Rithik photo',image)\n",
    "cv2.waitKey(2000)\n",
    "cv2.destroyAllWindows()"
   ]
  },
  {
   "cell_type": "code",
   "execution_count": 126,
   "id": "d36fa556",
   "metadata": {},
   "outputs": [],
   "source": [
    "image=cv2.imread('Rithik photo.jpg')\n",
    "image=cv2.resize(image,(1000,1000))\n",
    "gray_image = cv2.cvtColor(image,cv2.COLOR_BGR2GRAY)\n",
    "cv2.imshow('Rithik image', gray_image)\n",
    "cv2.waitKey(2000)\n",
    "cv2.destroyAllWindows()"
   ]
  },
  {
   "cell_type": "code",
   "execution_count": 106,
   "id": "2771ae48",
   "metadata": {},
   "outputs": [
    {
     "data": {
      "text/plain": [
       "500.0"
      ]
     },
     "execution_count": 106,
     "metadata": {},
     "output_type": "execute_result"
    }
   ],
   "source": [
    "image.shape[0]*0.5"
   ]
  },
  {
   "cell_type": "code",
   "execution_count": 107,
   "id": "8d621086",
   "metadata": {},
   "outputs": [
    {
     "data": {
      "text/plain": [
       "500.0"
      ]
     },
     "execution_count": 107,
     "metadata": {},
     "output_type": "execute_result"
    }
   ],
   "source": [
    "image.shape[1]*0.5"
   ]
  },
  {
   "cell_type": "code",
   "execution_count": null,
   "id": "55c380ed",
   "metadata": {},
   "outputs": [],
   "source": []
  },
  {
   "cell_type": "markdown",
   "id": "f9c1cdef",
   "metadata": {},
   "source": [
    "### Loading CascadeClassifier for detecting faces"
   ]
  },
  {
   "cell_type": "code",
   "execution_count": 127,
   "id": "25ed566a",
   "metadata": {},
   "outputs": [
    {
     "name": "stdout",
     "output_type": "stream",
     "text": [
      "< cv2.CascadeClassifier 000001454E39E4D0>\n"
     ]
    }
   ],
   "source": [
    "face_classifier = cv2.CascadeClassifier(\"C:/Users/karth/Downloads/haarcascade_frontalface_default.xml\")\n",
    "print(face_classifier)"
   ]
  },
  {
   "cell_type": "code",
   "execution_count": 128,
   "id": "17fb1e11",
   "metadata": {},
   "outputs": [],
   "source": [
    "face_classifier = cv2.CascadeClassifier(\"C:/Users/karth/Downloads/haarcascade_frontalface_default.xml\")\n",
    "\n",
    "image = cv2.imread('Rithik photo.jpg')\n",
    "image = cv2.resize(image,(690,690))\n",
    "gray_image = cv2.cvtColor(image, cv2.COLOR_BGR2GRAY)\n",
    "\n",
    "#Tuning Cascade Classifiers - detect MultiScale (input image, **Scale Factor**, **Min Neighbors**)\n",
    "faces = face_classifier.detectMultiScale (gray_image, 1.05, 5)"
   ]
  },
  {
   "cell_type": "code",
   "execution_count": 129,
   "id": "e186ecfe",
   "metadata": {},
   "outputs": [
    {
     "name": "stdout",
     "output_type": "stream",
     "text": [
      "[[237 165 224 224]]\n"
     ]
    }
   ],
   "source": [
    "print(faces)"
   ]
  },
  {
   "cell_type": "markdown",
   "id": "eaae14c6",
   "metadata": {},
   "source": [
    "###  Detecting faces in a gray scale image "
   ]
  },
  {
   "cell_type": "code",
   "execution_count": 131,
   "id": "d136f499",
   "metadata": {
    "scrolled": true
   },
   "outputs": [
    {
     "name": "stderr",
     "output_type": "stream",
     "text": [
      "<>:1: SyntaxWarning: \"is\" with a literal. Did you mean \"==\"?\n",
      "<>:1: SyntaxWarning: \"is\" with a literal. Did you mean \"==\"?\n",
      "C:\\Users\\karth\\AppData\\Local\\Temp\\ipykernel_12216\\2916019680.py:1: SyntaxWarning: \"is\" with a literal. Did you mean \"==\"?\n",
      "  if faces is ():\n"
     ]
    }
   ],
   "source": [
    "if faces is ():\n",
    "    print('No faces found')\n",
    "    \n",
    "for (x,y,w,h) in faces :\n",
    "    cv2.rectangle(gray_image,(x,y),(x+w,y+h),(0,255,255),3)\n",
    "cv2.imshow('Face Detection',gray_image)\n",
    "cv2.waitKey(2000)\n",
    "cv2.destroyAllWindows()"
   ]
  },
  {
   "cell_type": "markdown",
   "id": "93ea837d",
   "metadata": {},
   "source": [
    "###  Detecting faces in a color image"
   ]
  },
  {
   "cell_type": "code",
   "execution_count": 132,
   "id": "d39435e6",
   "metadata": {},
   "outputs": [
    {
     "name": "stderr",
     "output_type": "stream",
     "text": [
      "<>:1: SyntaxWarning: \"is\" with a literal. Did you mean \"==\"?\n",
      "<>:1: SyntaxWarning: \"is\" with a literal. Did you mean \"==\"?\n",
      "C:\\Users\\karth\\AppData\\Local\\Temp\\ipykernel_12216\\3249199254.py:1: SyntaxWarning: \"is\" with a literal. Did you mean \"==\"?\n",
      "  if faces is ():\n"
     ]
    }
   ],
   "source": [
    "if faces is ():\n",
    "    print('No faces found')\n",
    "    \n",
    "for (x,y,w,h) in faces :\n",
    "    cv2.rectangle(image,(x,y),(x+w,y+h),(0,255,100),3)\n",
    "cv2.imshow('Face Detection',image)\n",
    "cv2.waitKey(2000)\n",
    "cv2.destroyAllWindows()"
   ]
  },
  {
   "cell_type": "code",
   "execution_count": null,
   "id": "81c84320",
   "metadata": {},
   "outputs": [],
   "source": []
  },
  {
   "cell_type": "markdown",
   "id": "695840b5",
   "metadata": {},
   "source": [
    "### Loading Cascade Classifer for both Faces and Eyes"
   ]
  },
  {
   "cell_type": "code",
   "execution_count": 133,
   "id": "a0d947a1",
   "metadata": {},
   "outputs": [],
   "source": [
    "face_classifier = cv2.CascadeClassifier(\"C:/Users/karth/Downloads/haarcascade_frontalface_default.xml\")\n",
    "eye_classifier = cv2.CascadeClassifier(\"C:/Users/karth/Downloads/haarcascade_eye.xml\")\n"
   ]
  },
  {
   "cell_type": "code",
   "execution_count": null,
   "id": "715bd46f",
   "metadata": {},
   "outputs": [],
   "source": []
  },
  {
   "cell_type": "markdown",
   "id": "4f85a543",
   "metadata": {},
   "source": [
    "### Detected 1 face for a color Image"
   ]
  },
  {
   "cell_type": "markdown",
   "id": "a3d80360",
   "metadata": {},
   "source": [
    "### Facial and Eyes Recogniion"
   ]
  },
  {
   "cell_type": "code",
   "execution_count": 134,
   "id": "c2614972",
   "metadata": {},
   "outputs": [],
   "source": [
    "image = cv2.imread('Rithik photo.jpg')\n",
    "image =cv2.resize(image,(670,670))\n",
    "gray_image = cv2.cvtColor(image,cv2.COLOR_BGR2GRAY)\n",
    "\n",
    "faces = face_classifier.detectMultiScale(image,1.1,5)\n",
    "\n",
    "if len(faces) == 0:\n",
    "    print('no faces found')\n",
    "    \n",
    "for (x,y,w,h) in faces:\n",
    "    cv2.rectangle(image,(x,y),(x+w,y+h),(255,0,0),2)\n",
    "    roi_gray = gray_image[y:y+h,x:x+w]\n",
    "    roi_color = image[y:y+h,x:x+w]\n",
    "    \n",
    "    # detects eyes within the face region\n",
    "    eyes = eye_classifier.detectMultiScale(roi_gray, scaleFactor = 1.1, minNeighbors = 3)\n",
    "    \n",
    "    # Drawing rectangles around each detected eye\n",
    "    for (ex,ey,ew,eh) in eyes:\n",
    "        cv2.rectangle(roi_color,(ex,ey),(ex+ew,ey+eh),(0,255,0),2)\n",
    "        \n",
    "cv2.imshow('img',image)\n",
    "cv2.waitKey(2000)\n",
    "cv2.destroyAllWindows()"
   ]
  },
  {
   "cell_type": "markdown",
   "id": "eca42954",
   "metadata": {},
   "source": [
    "### Detected 1 face in a gray scale image"
   ]
  },
  {
   "cell_type": "code",
   "execution_count": 135,
   "id": "ada54282",
   "metadata": {},
   "outputs": [
    {
     "name": "stderr",
     "output_type": "stream",
     "text": [
      "<>:7: SyntaxWarning: \"is\" with a literal. Did you mean \"==\"?\n",
      "<>:7: SyntaxWarning: \"is\" with a literal. Did you mean \"==\"?\n",
      "C:\\Users\\karth\\AppData\\Local\\Temp\\ipykernel_12216\\379313312.py:7: SyntaxWarning: \"is\" with a literal. Did you mean \"==\"?\n",
      "  if faces is ():\n"
     ]
    }
   ],
   "source": [
    "image= cv2.imread('Rithik photo.jpg')\n",
    "image =cv2.resize(image,(670,670))\n",
    "gray_image = cv2.cvtColor(image,cv2.COLOR_BGR2GRAY)\n",
    "\n",
    "faces = face_classifier.detectMultiScale(gray_image, 1.3, 5)\n",
    "\n",
    "if faces is ():\n",
    "    print('no faces found')\n",
    "    \n",
    "for (x,y,w,h) in faces:\n",
    "    cv2.rectangle(gray_image,(x,y),(x+w,y+h),(0,255,0),3)\n",
    "    roi_gray = gray_image[y:y+h,x:x+w]\n",
    "    roi_color = image[y:y+h,x:x+w]\n",
    "    eyes = eye_classifier.detectMultiScale(roi_gray)\n",
    "    for (ex,ey,ew,eh) in eyes:\n",
    "        cv2.rectangle(roi_gray,(ex,ey),(ex+ew,ey+eh),(0,255,0),3)\n",
    "        \n",
    "cv2.imshow('image',gray_image)\n",
    "cv2.waitKey(2000)\n",
    "cv2.destroyAllWindows()"
   ]
  },
  {
   "cell_type": "code",
   "execution_count": null,
   "id": "892dc3d4",
   "metadata": {},
   "outputs": [],
   "source": []
  },
  {
   "cell_type": "markdown",
   "id": "f25cbc92",
   "metadata": {},
   "source": [
    "### capturing a video"
   ]
  },
  {
   "cell_type": "markdown",
   "id": "deaf13a4",
   "metadata": {},
   "source": [
    "### Capture video from a webcam or video file using cv2.VideoCapture().\n",
    "\n",
    "### 1. Process each frame by converting it to grayscale and detecting faces using the Haar Cascade.\n",
    "### 2. Draw rectangles around the detected faces.\n",
    "### 3. Display the frame with the detected faces in real time."
   ]
  },
  {
   "cell_type": "code",
   "execution_count": 49,
   "id": "0c679d94",
   "metadata": {},
   "outputs": [],
   "source": [
    "# Face Recognition with the webcam\n",
    "\n",
    "import cv2\n",
    "video = cv2.VideoCapture(0) #0 indicates for webcam\n",
    "\n",
    "while True:\n",
    "    check, frame = video.read() # reads the frame from the webcam\n",
    "    gray_image = cv2.cvtColor(frame, cv2.COLOR_BGR2GRAY) #converts the frame to grayscale\n",
    "    cv2.imshow('web cam', gray_image)\n",
    "    if cv2.waitKey(1) == ord('q'):\n",
    "        break\n",
    "        \n",
    "video.release()\n",
    "cv2.destroyAllWindows()"
   ]
  },
  {
   "cell_type": "code",
   "execution_count": null,
   "id": "c4821d8d",
   "metadata": {},
   "outputs": [],
   "source": []
  },
  {
   "cell_type": "markdown",
   "id": "2cc23f1d",
   "metadata": {},
   "source": [
    "### Fine-tuning the MultiScale Parameters using Scale Factors and minNeighbors"
   ]
  },
  {
   "cell_type": "code",
   "execution_count": 50,
   "id": "693ad188",
   "metadata": {},
   "outputs": [],
   "source": [
    "import cv2\n",
    "\n",
    "# Load the face classifier\n",
    "face_classifier = cv2.CascadeClassifier(r\"C:/Users/karth/Downloads/haarcascade_frontalface_default.xml\")\n",
    "\n",
    "# Starts capturing video from the webcam\n",
    "video = cv2.VideoCapture(0) \n",
    "\n",
    "while True:\n",
    "    # Captures the video frame by frame\n",
    "    check, frame = video.read()\n",
    "    \n",
    "    if not check:\n",
    "        print(\"Failed to capture video frame.\")\n",
    "        break\n",
    "\n",
    "    # Converting the frame to grayscale\n",
    "    gray_image = cv2.cvtColor(frame, cv2.COLOR_BGR2GRAY)\n",
    "\n",
    "    # Detecting faces in the grayscale frame\n",
    "    faces = face_classifier.detectMultiScale(gray_image, scaleFactor=1.3, minNeighbors=5)\n",
    "\n",
    "    # Drawing rectangles around each face detected\n",
    "    for (x, y, w, h) in faces:\n",
    "        cv2.rectangle(frame, (x, y), (x + w, y + h), (255, 0, 0), 2)\n",
    "\n",
    "    # Displaying the frame with the detected faces\n",
    "    cv2.imshow('Webcam - Face Detection', frame)\n",
    "    \n",
    "    if cv2.waitKey(1) & 0xFF == ord('q'):\n",
    "        break\n",
    "\n",
    "\n",
    "video.release()\n",
    "cv2.destroyAllWindows()"
   ]
  },
  {
   "cell_type": "code",
   "execution_count": null,
   "id": "d9052f01",
   "metadata": {},
   "outputs": [],
   "source": []
  },
  {
   "cell_type": "markdown",
   "id": "a2b1c541",
   "metadata": {},
   "source": [
    "##### First we need to perform the face detection on the grayscale image, but the imshow() function displays the original colored frame. \n",
    "\n",
    "##### This is a typical workflow in OpenCV since face detection algorithms often work faster and more effectively in grayscale, while the visualization can be done in color."
   ]
  },
  {
   "cell_type": "code",
   "execution_count": 41,
   "id": "b3377d6d",
   "metadata": {},
   "outputs": [],
   "source": [
    "import cv2\n",
    "\n",
    "# Loading the face classifier\n",
    "face_classifier = cv2.CascadeClassifier(r\"C:/Users/karth/Downloads/haarcascade_frontalface_default.xml\")\n",
    "\n",
    "video = cv2.VideoCapture(0)\n",
    "\n",
    "while True:\n",
    "    check, frame = video.read()\n",
    "    \n",
    "    if not check:\n",
    "        print(\"Failed to capture video frame.\")\n",
    "        break\n",
    "\n",
    "    gray_image = cv2.cvtColor(frame, cv2.COLOR_BGR2GRAY)\n",
    "    \n",
    "    faces = face_classifier.detectMultiScale(gray_image, scaleFactor=1.3, minNeighbors=5)\n",
    "\n",
    "    for (x, y, w, h) in faces:\n",
    "        cv2.rectangle(gray_image, (x, y), (x + w, y + h), (255, 0, 0), 2)\n",
    "        \n",
    "    cv2.imshow('Webcam - Face Detection', gray_image)\n",
    "\n",
    "    if cv2.waitKey(1) == ord('q'):\n",
    "        break\n",
    "video.release()\n",
    "cv2.destroyAllWindows()"
   ]
  },
  {
   "cell_type": "code",
   "execution_count": null,
   "id": "867d2fb1",
   "metadata": {},
   "outputs": [],
   "source": []
  },
  {
   "cell_type": "markdown",
   "id": "1ce79bdd",
   "metadata": {},
   "source": [
    "# Let's detect both faces and eyes"
   ]
  },
  {
   "cell_type": "markdown",
   "id": "ccb6d1d9",
   "metadata": {},
   "source": [
    "##### we need to perform the Cascades for detecting Faces first, and then for Eyes within the detected Face region"
   ]
  },
  {
   "cell_type": "code",
   "execution_count": 43,
   "id": "e626449f",
   "metadata": {},
   "outputs": [],
   "source": [
    "import cv2\n",
    "\n",
    "face_classifier = cv2.CascadeClassifier(r\"C:/Users/karth/Downloads/haarcascade_frontalface_default.xml\")\n",
    "eye_classifier = cv2.CascadeClassifier(r\"C:/Users/karth/Downloads/haarcascade_eye.xml\")\n",
    "\n",
    "video = cv2.VideoCapture(0) \n",
    "\n",
    "while True:\n",
    "    check, frame = video.read()\n",
    "\n",
    "    if not check:\n",
    "        print(\"Failed to capture video frame.\")\n",
    "        break\n",
    "\n",
    "    gray_image = cv2.cvtColor(frame, cv2.COLOR_BGR2GRAY)\n",
    "\n",
    "    faces = face_classifier.detectMultiScale(gray_image, scaleFactor=1.1, minNeighbors=2)\n",
    "\n",
    "   \n",
    "    for (x, y, w, h) in faces:\n",
    "    \n",
    "        cv2.rectangle(frame, (x, y), (x + w, y + h), (255, 0, 0), 2)\n",
    "\n",
    "        roi_gray = gray_image[y:y+h, x:x+w]\n",
    "        roi_color = frame[y:y+h, x:x+w]\n",
    "\n",
    "\n",
    "        eyes = eye_classifier.detectMultiScale(roi_gray, scaleFactor=1.3, minNeighbors=2)\n",
    "\n",
    "\n",
    "        for (ex, ey, ew, eh) in eyes:\n",
    "\n",
    "            cv2.rectangle(roi_color, (ex, ey), (ex + ew, ey + eh), (0, 255, 0), 2)\n",
    "\n",
    "    cv2.imshow('Webcam - Face and Eye Detection', frame)\n",
    "\n",
    "    if cv2.waitKey(1) & 0xFF == ord('q'):\n",
    "        break\n",
    "        \n",
    "video.release()\n",
    "cv2.destroyAllWindows()\n"
   ]
  },
  {
   "cell_type": "code",
   "execution_count": null,
   "id": "7fad551e",
   "metadata": {},
   "outputs": [],
   "source": []
  },
  {
   "cell_type": "markdown",
   "id": "b38da565",
   "metadata": {},
   "source": [
    "# Body Classifier"
   ]
  },
  {
   "cell_type": "code",
   "execution_count": 68,
   "id": "627f2cef",
   "metadata": {},
   "outputs": [],
   "source": [
    "import cv2\n",
    "\n",
    "body_classifier = cv2.CascadeClassifier(\"C:/Users/karth/Downloads/haarcascade_fullbody.xml\")\n",
    "\n",
    "\n",
    "#Initiating the captured video for video file\n",
    "video = cv2.VideoCapture(\"C:/Users/karth/Downloads/walking.avi\")\n",
    "\n",
    "\n",
    "while video.isOpened():\n",
    "    \n",
    "    check, frame = video.read()\n",
    "    gray = cv2.cvtColor(frame, cv2.COLOR_BGR2GRAY)\n",
    "    #pass frame to our body classifier\n",
    "    bodies = body_classifier.detectMultiScale(gray, 1.2, 3)\n",
    "    \n",
    "    for (x,y,w,h) in bodies:\n",
    "        cv2.rectangle(frame, (x,y),(x+w, y+h), (0, 255, 255), 2)\n",
    "        cv2. imshow('Pedestrians', frame)\n",
    "        \n",
    "    if cv2.waitKey(1) == ord('q'):\n",
    "        break\n",
    "        \n",
    "video.release()\n",
    "cv2.destroyAllWindows()"
   ]
  },
  {
   "cell_type": "code",
   "execution_count": 70,
   "id": "7a17b1c2",
   "metadata": {},
   "outputs": [],
   "source": [
    "import cv2\n",
    "\n",
    "body_classifier = cv2.CascadeClassifier(\"C:/Users/karth/Downloads/haarcascade_fullbody.xml\")\n",
    "\n",
    "\n",
    "#Initiate the captured video for video file\n",
    "video = cv2.VideoCapture(\"C:/Users/karth/OneDrive - Michigan Technological University/Git Hub Projects/Data Sets/video1.mp4\")\n",
    "\n",
    "#Loop once video is successfully Loaded\n",
    "\n",
    "while video.isOpened():\n",
    "    \n",
    "    #read first frame\n",
    "    \n",
    "    check, frame = video.read()\n",
    "    gray = cv2.cvtColor(frame, cv2.COLOR_BGR2GRAY)\n",
    "    #pass frame to our body classifier\n",
    "    bodies = body_classifier.detectMultiScale(gray, 1.1, 3)\n",
    "    \n",
    "    # Extract bounding boxes for any bodies identified\n",
    "    for (x,y,w,h) in bodies:\n",
    "        cv2.rectangle(frame, (x,y),(x+w, y+h), (0, 255, 255), 2)\n",
    "        cv2. imshow('Pedestrians', frame)\n",
    "        \n",
    "    if cv2.waitKey(1) == ord('q'):\n",
    "        break\n",
    "        \n",
    "video.release()\n",
    "cv2.destroyAllWindows()"
   ]
  },
  {
   "cell_type": "code",
   "execution_count": null,
   "id": "93c8da5a",
   "metadata": {},
   "outputs": [],
   "source": []
  },
  {
   "cell_type": "markdown",
   "id": "0b8f04ab",
   "metadata": {},
   "source": [
    "# Facial and Eye Detection in a Video Capture"
   ]
  },
  {
   "cell_type": "code",
   "execution_count": 72,
   "id": "b95629d7",
   "metadata": {},
   "outputs": [],
   "source": [
    "import cv2\n",
    "\n",
    "# Load Haar Cascades for face and eye detection\n",
    "face_classifier = cv2.CascadeClassifier(r\"C:/Users/karth/Downloads/haarcascade_frontalface_default.xml\")\n",
    "eye_classifier = cv2.CascadeClassifier(r\"C:/Users/karth/Downloads/haarcascade_eye.xml\")\n",
    "\n",
    "# Start capturing video from the webcam\n",
    "video = cv2.VideoCapture(\"C:/Users/karth/OneDrive - Michigan Technological University/Git Hub Projects/Data Sets/video1.mp4\")  # 0 indicates the default webcam\n",
    "\n",
    "while True:\n",
    "    # Capture the video frame by frame\n",
    "    check, frame = video.read()\n",
    "\n",
    "    if not check:\n",
    "        print(\"Failed to capture video frame.\")\n",
    "        break\n",
    "\n",
    "    # Convert the frame to grayscale for face and eye detection\n",
    "    gray_image = cv2.cvtColor(frame, cv2.COLOR_BGR2GRAY)\n",
    "\n",
    "    # Detect faces in the grayscale frame\n",
    "    faces = face_classifier.detectMultiScale(gray_image, scaleFactor=1.1, minNeighbors=2)\n",
    "\n",
    "    # Loop through each detected face\n",
    "    for (x, y, w, h) in faces:\n",
    "        # Draw rectangle around the face\n",
    "        cv2.rectangle(frame, (x, y), (x + w, y + h), (255, 0, 0), 2)\n",
    "\n",
    "        # Region of interest for face (to detect eyes within the face)\n",
    "        roi_gray = gray_image[y:y+h, x:x+w]\n",
    "        roi_color = frame[y:y+h, x:x+w]\n",
    "\n",
    "        # Detect eyes within the face region\n",
    "        eyes = eye_classifier.detectMultiScale(roi_gray, scaleFactor=1.3, minNeighbors=2)\n",
    "\n",
    "        # Loop through each detected eye\n",
    "        for (ex, ey, ew, eh) in eyes:\n",
    "            # Draw rectangle around each eye (fix applied here)\n",
    "            cv2.rectangle(roi_color, (ex, ey), (ex + ew, ey + eh), (0, 255, 0), 2)  # Corrected here!\n",
    "\n",
    "    # Display the frame with detected faces and eyes\n",
    "    cv2.imshow('Webcam - Face and Eye Detection', frame)\n",
    "\n",
    "    # Exit when 'q' is pressed\n",
    "    if cv2.waitKey(1) & 0xFF == ord('q'):\n",
    "        break\n",
    "\n",
    "# Release the video capture object and close all windows\n",
    "video.release()\n",
    "cv2.destroyAllWindows()"
   ]
  },
  {
   "cell_type": "code",
   "execution_count": null,
   "id": "15c6202c",
   "metadata": {},
   "outputs": [],
   "source": []
  },
  {
   "cell_type": "code",
   "execution_count": null,
   "id": "1673e443",
   "metadata": {},
   "outputs": [],
   "source": []
  }
 ],
 "metadata": {
  "kernelspec": {
   "display_name": "Python 3 (ipykernel)",
   "language": "python",
   "name": "python3"
  },
  "language_info": {
   "codemirror_mode": {
    "name": "ipython",
    "version": 3
   },
   "file_extension": ".py",
   "mimetype": "text/x-python",
   "name": "python",
   "nbconvert_exporter": "python",
   "pygments_lexer": "ipython3",
   "version": "3.11.5"
  }
 },
 "nbformat": 4,
 "nbformat_minor": 5
}
